{
 "cells": [
  {
   "cell_type": "markdown",
   "id": "b38bcef2-6e90-4354-931e-48d50795c018",
   "metadata": {},
   "source": [
    "# Data Science Tools and Ecosystem"
   ]
  },
  {
   "cell_type": "markdown",
   "id": "2862bde4-8314-44bc-b74d-3b929df671b1",
   "metadata": {},
   "source": [
    "In this notebook, Data Science Tools and Ecosystem are summarized."
   ]
  },
  {
   "cell_type": "markdown",
   "id": "83bd37fc-3614-4a1d-93ef-8d88ccd72077",
   "metadata": {},
   "source": [
    "**Objectives:**\n",
    "\n",
    "- List popular languages for Data Science.\n",
    "- List popular Python libraries for Data Science.\n",
    "- Demonstrate code examples for arithmetic operations.\n",
    "- convert minutes to hours in Python.\n"
   ]
  },
  {
   "cell_type": "markdown",
   "id": "89b33613-1cec-45ca-849f-33a5f48d6e18",
   "metadata": {},
   "source": [
    "Some of the popular languages that Data Scientists use are:\n",
    "<ol>\n",
    "    <li>Python</li>\n",
    "    <li>R</li>\n",
    "    <li>Scala</li>\n",
    "</ol>"
   ]
  },
  {
   "cell_type": "markdown",
   "id": "09c6b07f-f2ad-49dd-9a5b-d11ba40c63fe",
   "metadata": {},
   "source": [
    "Some of the commonly used libraries used by Data Scientists include:\n",
    "<ol>\n",
    "    <li>Numpy</li>\n",
    "    <li>Pandas</li>\n",
    "    <li>Matplotlib</li>\n",
    "</ol>"
   ]
  },
  {
   "cell_type": "markdown",
   "id": "0e6c3acd-9426-40e2-b108-83ae4c19c46a",
   "metadata": {},
   "source": [
    "| Data Science Tools |\n",
    "|--------------------|\n",
    "| Jupyter Notebook   |\n",
    "| RStudio            |\n",
    "| Apache Zeppelin    |\n"
   ]
  },
  {
   "cell_type": "markdown",
   "id": "e5b782fc-36c1-413b-98c8-486a3b67e512",
   "metadata": {},
   "source": [
    "### Examples of Evaluating Arithmetic Expressions in Python\n",
    "5 + 10  \n",
    "6 - 3  \n",
    "8 * 11  \n",
    "15 / 3"
   ]
  },
  {
   "cell_type": "code",
   "execution_count": 3,
   "id": "23d0cd34-c6d1-4c9a-924c-3c417a8b845e",
   "metadata": {},
   "outputs": [
    {
     "name": "stdout",
     "output_type": "stream",
     "text": [
      "17\n"
     ]
    }
   ],
   "source": [
    "# This is a simple arithmetic expression to multiply then add integers.\n",
    "result = (3 * 4) + 5\n",
    "print(result)\n"
   ]
  },
  {
   "cell_type": "code",
   "execution_count": 4,
   "id": "e7d25b21-27a4-4562-868e-6a4a07809150",
   "metadata": {},
   "outputs": [
    {
     "name": "stdout",
     "output_type": "stream",
     "text": [
      "3.3333333333333335\n"
     ]
    }
   ],
   "source": [
    "# This will convert 200 minutes to hours by dividing by 60.\n",
    "minutes = 200\n",
    "hours = minutes / 60\n",
    "print(hours)\n"
   ]
  },
  {
   "cell_type": "markdown",
   "id": "c5454034-b914-460c-916b-e90954965702",
   "metadata": {},
   "source": [
    "## Author\n",
    "\n",
    "Barj Youssef"
   ]
  },
  {
   "cell_type": "code",
   "execution_count": null,
   "id": "63e13af7-87c5-4a5a-a953-2ff12006c4ca",
   "metadata": {},
   "outputs": [],
   "source": []
  }
 ],
 "metadata": {
  "kernelspec": {
   "display_name": "Python 3 (ipykernel)",
   "language": "python",
   "name": "python3"
  },
  "language_info": {
   "codemirror_mode": {
    "name": "ipython",
    "version": 3
   },
   "file_extension": ".py",
   "mimetype": "text/x-python",
   "name": "python",
   "nbconvert_exporter": "python",
   "pygments_lexer": "ipython3",
   "version": "3.10.9"
  }
 },
 "nbformat": 4,
 "nbformat_minor": 5
}
